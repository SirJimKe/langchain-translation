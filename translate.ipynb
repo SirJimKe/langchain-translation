{
 "cells": [
  {
   "cell_type": "code",
   "execution_count": 5,
   "id": "c68434d0-a5f2-4d04-807f-038c4022db0a",
   "metadata": {},
   "outputs": [
    {
     "name": "stdin",
     "output_type": "stream",
     "text": [
      "Enter target language:  French\n",
      "Enter text to translate:  Good morning Sir\n"
     ]
    },
    {
     "name": "stdout",
     "output_type": "stream",
     "text": [
      "Translation: Bonjour, Monsieur.\n"
     ]
    }
   ],
   "source": [
    "import os\n",
    "from dotenv import load_dotenv\n",
    "from langchain.chat_models import init_chat_model\n",
    "from langchain_core.prompts import ChatPromptTemplate\n",
    "\n",
    "# Load API key from .env\n",
    "load_dotenv()\n",
    "\n",
    "# Initialize the OpenAI chat model\n",
    "model = init_chat_model(\"gpt-4o-mini\", model_provider=\"openai\")\n",
    "\n",
    "# Create the prompt template\n",
    "system_template = \"Translate the following from English into {language}\"\n",
    "prompt_template = ChatPromptTemplate.from_messages([\n",
    "    (\"system\", system_template),\n",
    "    (\"user\", \"{text}\")\n",
    "])\n",
    "\n",
    "# Get user input\n",
    "language = input(\"Enter target language: \")\n",
    "text = input(\"Enter text to translate: \")\n",
    "\n",
    "# Fill in the template with variables\n",
    "prompt = prompt_template.invoke({\"language\": language, \"text\": text})\n",
    "\n",
    "# Send to model and get response\n",
    "response = model.invoke(prompt)\n",
    "\n",
    "# Print just the translated text\n",
    "print(\"Translation:\", response.content)\n"
   ]
  },
  {
   "cell_type": "code",
   "execution_count": null,
   "id": "bfa0da52-dbcb-4e4b-a5d2-b2e04252d438",
   "metadata": {},
   "outputs": [],
   "source": []
  }
 ],
 "metadata": {
  "kernelspec": {
   "display_name": "Python 3 (ipykernel)",
   "language": "python",
   "name": "python3"
  },
  "language_info": {
   "codemirror_mode": {
    "name": "ipython",
    "version": 3
   },
   "file_extension": ".py",
   "mimetype": "text/x-python",
   "name": "python",
   "nbconvert_exporter": "python",
   "pygments_lexer": "ipython3",
   "version": "3.12.3"
  }
 },
 "nbformat": 4,
 "nbformat_minor": 5
}
